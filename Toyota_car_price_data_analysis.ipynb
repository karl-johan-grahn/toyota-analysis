{
 "cells": [
  {
   "cell_type": "code",
   "execution_count": 1,
   "metadata": {},
   "outputs": [],
   "source": [
    "import warnings\n",
    "warnings.filterwarnings('ignore')\n",
    "\n",
    "#importing the libraries\n",
    "import numpy as np\n",
    "import pandas as pd\n",
    "import matplotlib.pyplot as plt\n",
    "import seaborn as sns"
   ]
  },
  {
   "cell_type": "code",
   "execution_count": 2,
   "metadata": {},
   "outputs": [
    {
     "data": {
      "text/html": [
       "<style>.container { width:100% !important; }</style>"
      ],
      "text/plain": [
       "<IPython.core.display.HTML object>"
      ]
     },
     "metadata": {},
     "output_type": "display_data"
    }
   ],
   "source": [
    "from IPython.core.display import display, HTML\n",
    "display(HTML(\"<style>.container { width:100% !important; }</style>\"))"
   ]
  },
  {
   "cell_type": "code",
   "execution_count": 3,
   "metadata": {},
   "outputs": [
    {
     "data": {
      "text/html": [
       "<div>\n",
       "<style scoped>\n",
       "    .dataframe tbody tr th:only-of-type {\n",
       "        vertical-align: middle;\n",
       "    }\n",
       "\n",
       "    .dataframe tbody tr th {\n",
       "        vertical-align: top;\n",
       "    }\n",
       "\n",
       "    .dataframe thead th {\n",
       "        text-align: right;\n",
       "    }\n",
       "</style>\n",
       "<table border=\"1\" class=\"dataframe\">\n",
       "  <thead>\n",
       "    <tr style=\"text-align: right;\">\n",
       "      <th></th>\n",
       "      <th>year</th>\n",
       "      <th>Toyota_worldwide_sales</th>\n",
       "      <th>Toyota_sales_inside_japan</th>\n",
       "      <th>Toyota_sales_outside_japan</th>\n",
       "      <th>Daihatsu_worldwide_sales</th>\n",
       "      <th>Daihatsu_sales_inside_japan</th>\n",
       "      <th>Daihatsu_sales_outside_japan</th>\n",
       "      <th>Hino_worldwide_sales</th>\n",
       "      <th>Hino_sales_inside_japan</th>\n",
       "      <th>Hino_sales_outside_japan</th>\n",
       "      <th>Total_worldwide_sales</th>\n",
       "      <th>Total_sales_inside_japan</th>\n",
       "      <th>Total_sales_outside_japan</th>\n",
       "    </tr>\n",
       "  </thead>\n",
       "  <tbody>\n",
       "    <tr>\n",
       "      <th>0</th>\n",
       "      <td>2009</td>\n",
       "      <td>6979552</td>\n",
       "      <td>1375509</td>\n",
       "      <td>5604043</td>\n",
       "      <td>754406</td>\n",
       "      <td>596229</td>\n",
       "      <td>158177</td>\n",
       "      <td>79242</td>\n",
       "      <td>24436</td>\n",
       "      <td>54806</td>\n",
       "      <td>7813200</td>\n",
       "      <td>1996174</td>\n",
       "      <td>5817026</td>\n",
       "    </tr>\n",
       "    <tr>\n",
       "      <th>1</th>\n",
       "      <td>2010</td>\n",
       "      <td>7527738</td>\n",
       "      <td>1566157</td>\n",
       "      <td>5961581</td>\n",
       "      <td>783292</td>\n",
       "      <td>608528</td>\n",
       "      <td>174764</td>\n",
       "      <td>107104</td>\n",
       "      <td>29164</td>\n",
       "      <td>77940</td>\n",
       "      <td>8418134</td>\n",
       "      <td>2203849</td>\n",
       "      <td>6214285</td>\n",
       "    </tr>\n",
       "    <tr>\n",
       "      <th>2</th>\n",
       "      <td>2011</td>\n",
       "      <td>7096853</td>\n",
       "      <td>1200976</td>\n",
       "      <td>5895877</td>\n",
       "      <td>730498</td>\n",
       "      <td>548301</td>\n",
       "      <td>182197</td>\n",
       "      <td>121606</td>\n",
       "      <td>34244</td>\n",
       "      <td>87362</td>\n",
       "      <td>7948957</td>\n",
       "      <td>1783521</td>\n",
       "      <td>6165436</td>\n",
       "    </tr>\n",
       "    <tr>\n",
       "      <th>3</th>\n",
       "      <td>2012</td>\n",
       "      <td>8717314</td>\n",
       "      <td>1692228</td>\n",
       "      <td>7025086</td>\n",
       "      <td>875662</td>\n",
       "      <td>677200</td>\n",
       "      <td>198462</td>\n",
       "      <td>154795</td>\n",
       "      <td>42462</td>\n",
       "      <td>112333</td>\n",
       "      <td>9747771</td>\n",
       "      <td>2411890</td>\n",
       "      <td>7335881</td>\n",
       "    </tr>\n",
       "    <tr>\n",
       "      <th>4</th>\n",
       "      <td>2013</td>\n",
       "      <td>8947756</td>\n",
       "      <td>1584316</td>\n",
       "      <td>7363440</td>\n",
       "      <td>869875</td>\n",
       "      <td>662718</td>\n",
       "      <td>207157</td>\n",
       "      <td>162460</td>\n",
       "      <td>48188</td>\n",
       "      <td>114272</td>\n",
       "      <td>9980091</td>\n",
       "      <td>2295222</td>\n",
       "      <td>7684869</td>\n",
       "    </tr>\n",
       "  </tbody>\n",
       "</table>\n",
       "</div>"
      ],
      "text/plain": [
       "   year  Toyota_worldwide_sales  Toyota_sales_inside_japan  \\\n",
       "0  2009                 6979552                    1375509   \n",
       "1  2010                 7527738                    1566157   \n",
       "2  2011                 7096853                    1200976   \n",
       "3  2012                 8717314                    1692228   \n",
       "4  2013                 8947756                    1584316   \n",
       "\n",
       "   Toyota_sales_outside_japan  Daihatsu_worldwide_sales  \\\n",
       "0                     5604043                    754406   \n",
       "1                     5961581                    783292   \n",
       "2                     5895877                    730498   \n",
       "3                     7025086                    875662   \n",
       "4                     7363440                    869875   \n",
       "\n",
       "   Daihatsu_sales_inside_japan  Daihatsu_sales_outside_japan  \\\n",
       "0                       596229                        158177   \n",
       "1                       608528                        174764   \n",
       "2                       548301                        182197   \n",
       "3                       677200                        198462   \n",
       "4                       662718                        207157   \n",
       "\n",
       "   Hino_worldwide_sales  Hino_sales_inside_japan  Hino_sales_outside_japan  \\\n",
       "0                 79242                    24436                     54806   \n",
       "1                107104                    29164                     77940   \n",
       "2                121606                    34244                     87362   \n",
       "3                154795                    42462                    112333   \n",
       "4                162460                    48188                    114272   \n",
       "\n",
       "   Total_worldwide_sales  Total_sales_inside_japan  Total_sales_outside_japan  \n",
       "0                7813200                   1996174                    5817026  \n",
       "1                8418134                   2203849                    6214285  \n",
       "2                7948957                   1783521                    6165436  \n",
       "3                9747771                   2411890                    7335881  \n",
       "4                9980091                   2295222                    7684869  "
      ]
     },
     "execution_count": 3,
     "metadata": {},
     "output_type": "execute_result"
    }
   ],
   "source": [
    "sales = pd.read_csv('data/toyota_financial_data_latest.csv')\n",
    "sales.head()"
   ]
  },
  {
   "cell_type": "code",
   "execution_count": 4,
   "metadata": {},
   "outputs": [
    {
     "data": {
      "text/plain": [
       "(11, 13)"
      ]
     },
     "execution_count": 4,
     "metadata": {},
     "output_type": "execute_result"
    }
   ],
   "source": [
    "sales.shape"
   ]
  },
  {
   "cell_type": "code",
   "execution_count": 5,
   "metadata": {},
   "outputs": [
    {
     "data": {
      "text/html": [
       "<div>\n",
       "<style scoped>\n",
       "    .dataframe tbody tr th:only-of-type {\n",
       "        vertical-align: middle;\n",
       "    }\n",
       "\n",
       "    .dataframe tbody tr th {\n",
       "        vertical-align: top;\n",
       "    }\n",
       "\n",
       "    .dataframe thead th {\n",
       "        text-align: right;\n",
       "    }\n",
       "</style>\n",
       "<table border=\"1\" class=\"dataframe\">\n",
       "  <thead>\n",
       "    <tr style=\"text-align: right;\">\n",
       "      <th></th>\n",
       "      <th>year</th>\n",
       "      <th>Toyota_worldwide_sales</th>\n",
       "      <th>Toyota_sales_inside_japan</th>\n",
       "      <th>Toyota_sales_outside_japan</th>\n",
       "      <th>Daihatsu_worldwide_sales</th>\n",
       "      <th>Daihatsu_sales_inside_japan</th>\n",
       "      <th>Daihatsu_sales_outside_japan</th>\n",
       "      <th>Hino_worldwide_sales</th>\n",
       "      <th>Hino_sales_inside_japan</th>\n",
       "      <th>Hino_sales_outside_japan</th>\n",
       "      <th>Total_worldwide_sales</th>\n",
       "      <th>Total_sales_inside_japan</th>\n",
       "      <th>Total_sales_outside_japan</th>\n",
       "    </tr>\n",
       "  </thead>\n",
       "  <tbody>\n",
       "    <tr>\n",
       "      <th>count</th>\n",
       "      <td>11.000000</td>\n",
       "      <td>1.100000e+01</td>\n",
       "      <td>1.100000e+01</td>\n",
       "      <td>1.100000e+01</td>\n",
       "      <td>11.000000</td>\n",
       "      <td>11.000000</td>\n",
       "      <td>11.000000</td>\n",
       "      <td>11.000000</td>\n",
       "      <td>11.000000</td>\n",
       "      <td>11.000000</td>\n",
       "      <td>1.100000e+01</td>\n",
       "      <td>1.100000e+01</td>\n",
       "      <td>1.100000e+01</td>\n",
       "    </tr>\n",
       "    <tr>\n",
       "      <th>mean</th>\n",
       "      <td>2014.000000</td>\n",
       "      <td>8.678966e+06</td>\n",
       "      <td>1.532715e+06</td>\n",
       "      <td>7.146251e+06</td>\n",
       "      <td>818753.181818</td>\n",
       "      <td>630487.454545</td>\n",
       "      <td>188265.727273</td>\n",
       "      <td>155596.363636</td>\n",
       "      <td>51706.545455</td>\n",
       "      <td>103889.818182</td>\n",
       "      <td>9.653315e+06</td>\n",
       "      <td>2.214909e+06</td>\n",
       "      <td>7.438406e+06</td>\n",
       "    </tr>\n",
       "    <tr>\n",
       "      <th>std</th>\n",
       "      <td>3.316625</td>\n",
       "      <td>9.939283e+05</td>\n",
       "      <td>1.360421e+05</td>\n",
       "      <td>9.012974e+05</td>\n",
       "      <td>56289.117307</td>\n",
       "      <td>45868.936561</td>\n",
       "      <td>14990.716008</td>\n",
       "      <td>37827.935374</td>\n",
       "      <td>16916.310019</td>\n",
       "      <td>22130.124920</td>\n",
       "      <td>1.067327e+06</td>\n",
       "      <td>1.806163e+05</td>\n",
       "      <td>9.308611e+05</td>\n",
       "    </tr>\n",
       "    <tr>\n",
       "      <th>min</th>\n",
       "      <td>2009.000000</td>\n",
       "      <td>6.979552e+06</td>\n",
       "      <td>1.200976e+06</td>\n",
       "      <td>5.604043e+06</td>\n",
       "      <td>730498.000000</td>\n",
       "      <td>548301.000000</td>\n",
       "      <td>158177.000000</td>\n",
       "      <td>79242.000000</td>\n",
       "      <td>24436.000000</td>\n",
       "      <td>54806.000000</td>\n",
       "      <td>7.813200e+06</td>\n",
       "      <td>1.783521e+06</td>\n",
       "      <td>5.817026e+06</td>\n",
       "    </tr>\n",
       "    <tr>\n",
       "      <th>25%</th>\n",
       "      <td>2011.500000</td>\n",
       "      <td>8.122526e+06</td>\n",
       "      <td>1.526094e+06</td>\n",
       "      <td>6.493334e+06</td>\n",
       "      <td>781838.000000</td>\n",
       "      <td>602378.500000</td>\n",
       "      <td>180626.000000</td>\n",
       "      <td>138200.500000</td>\n",
       "      <td>38353.000000</td>\n",
       "      <td>97261.000000</td>\n",
       "      <td>9.082952e+06</td>\n",
       "      <td>2.186659e+06</td>\n",
       "      <td>6.775083e+06</td>\n",
       "    </tr>\n",
       "    <tr>\n",
       "      <th>50%</th>\n",
       "      <td>2014.000000</td>\n",
       "      <td>9.147342e+06</td>\n",
       "      <td>1.566157e+06</td>\n",
       "      <td>7.593024e+06</td>\n",
       "      <td>816997.000000</td>\n",
       "      <td>630902.000000</td>\n",
       "      <td>186095.000000</td>\n",
       "      <td>168348.000000</td>\n",
       "      <td>57422.000000</td>\n",
       "      <td>110926.000000</td>\n",
       "      <td>1.015108e+07</td>\n",
       "      <td>2.281991e+06</td>\n",
       "      <td>7.910982e+06</td>\n",
       "    </tr>\n",
       "    <tr>\n",
       "      <th>75%</th>\n",
       "      <td>2016.500000</td>\n",
       "      <td>9.303754e+06</td>\n",
       "      <td>1.597242e+06</td>\n",
       "      <td>7.720654e+06</td>\n",
       "      <td>859028.500000</td>\n",
       "      <td>660826.500000</td>\n",
       "      <td>199885.000000</td>\n",
       "      <td>177797.000000</td>\n",
       "      <td>65542.500000</td>\n",
       "      <td>115810.500000</td>\n",
       "      <td>1.030842e+07</td>\n",
       "      <td>2.325893e+06</td>\n",
       "      <td>8.017838e+06</td>\n",
       "    </tr>\n",
       "    <tr>\n",
       "      <th>max</th>\n",
       "      <td>2019.000000</td>\n",
       "      <td>9.714253e+06</td>\n",
       "      <td>1.692228e+06</td>\n",
       "      <td>8.104084e+06</td>\n",
       "      <td>915239.000000</td>\n",
       "      <td>708207.000000</td>\n",
       "      <td>207157.000000</td>\n",
       "      <td>203768.000000</td>\n",
       "      <td>70808.000000</td>\n",
       "      <td>132960.000000</td>\n",
       "      <td>1.074212e+07</td>\n",
       "      <td>2.411890e+06</td>\n",
       "      <td>8.403229e+06</td>\n",
       "    </tr>\n",
       "  </tbody>\n",
       "</table>\n",
       "</div>"
      ],
      "text/plain": [
       "              year  Toyota_worldwide_sales  Toyota_sales_inside_japan  \\\n",
       "count    11.000000            1.100000e+01               1.100000e+01   \n",
       "mean   2014.000000            8.678966e+06               1.532715e+06   \n",
       "std       3.316625            9.939283e+05               1.360421e+05   \n",
       "min    2009.000000            6.979552e+06               1.200976e+06   \n",
       "25%    2011.500000            8.122526e+06               1.526094e+06   \n",
       "50%    2014.000000            9.147342e+06               1.566157e+06   \n",
       "75%    2016.500000            9.303754e+06               1.597242e+06   \n",
       "max    2019.000000            9.714253e+06               1.692228e+06   \n",
       "\n",
       "       Toyota_sales_outside_japan  Daihatsu_worldwide_sales  \\\n",
       "count                1.100000e+01                 11.000000   \n",
       "mean                 7.146251e+06             818753.181818   \n",
       "std                  9.012974e+05              56289.117307   \n",
       "min                  5.604043e+06             730498.000000   \n",
       "25%                  6.493334e+06             781838.000000   \n",
       "50%                  7.593024e+06             816997.000000   \n",
       "75%                  7.720654e+06             859028.500000   \n",
       "max                  8.104084e+06             915239.000000   \n",
       "\n",
       "       Daihatsu_sales_inside_japan  Daihatsu_sales_outside_japan  \\\n",
       "count                    11.000000                     11.000000   \n",
       "mean                 630487.454545                 188265.727273   \n",
       "std                   45868.936561                  14990.716008   \n",
       "min                  548301.000000                 158177.000000   \n",
       "25%                  602378.500000                 180626.000000   \n",
       "50%                  630902.000000                 186095.000000   \n",
       "75%                  660826.500000                 199885.000000   \n",
       "max                  708207.000000                 207157.000000   \n",
       "\n",
       "       Hino_worldwide_sales  Hino_sales_inside_japan  \\\n",
       "count             11.000000                11.000000   \n",
       "mean          155596.363636             51706.545455   \n",
       "std            37827.935374             16916.310019   \n",
       "min            79242.000000             24436.000000   \n",
       "25%           138200.500000             38353.000000   \n",
       "50%           168348.000000             57422.000000   \n",
       "75%           177797.000000             65542.500000   \n",
       "max           203768.000000             70808.000000   \n",
       "\n",
       "       Hino_sales_outside_japan  Total_worldwide_sales  \\\n",
       "count                 11.000000           1.100000e+01   \n",
       "mean              103889.818182           9.653315e+06   \n",
       "std                22130.124920           1.067327e+06   \n",
       "min                54806.000000           7.813200e+06   \n",
       "25%                97261.000000           9.082952e+06   \n",
       "50%               110926.000000           1.015108e+07   \n",
       "75%               115810.500000           1.030842e+07   \n",
       "max               132960.000000           1.074212e+07   \n",
       "\n",
       "       Total_sales_inside_japan  Total_sales_outside_japan  \n",
       "count              1.100000e+01               1.100000e+01  \n",
       "mean               2.214909e+06               7.438406e+06  \n",
       "std                1.806163e+05               9.308611e+05  \n",
       "min                1.783521e+06               5.817026e+06  \n",
       "25%                2.186659e+06               6.775083e+06  \n",
       "50%                2.281991e+06               7.910982e+06  \n",
       "75%                2.325893e+06               8.017838e+06  \n",
       "max                2.411890e+06               8.403229e+06  "
      ]
     },
     "execution_count": 5,
     "metadata": {},
     "output_type": "execute_result"
    }
   ],
   "source": [
    "sales.describe()"
   ]
  },
  {
   "cell_type": "code",
   "execution_count": 6,
   "metadata": {},
   "outputs": [
    {
     "name": "stdout",
     "output_type": "stream",
     "text": [
      "<class 'pandas.core.frame.DataFrame'>\n",
      "RangeIndex: 11 entries, 0 to 10\n",
      "Data columns (total 13 columns):\n",
      " #   Column                        Non-Null Count  Dtype\n",
      "---  ------                        --------------  -----\n",
      " 0   year                          11 non-null     int64\n",
      " 1   Toyota_worldwide_sales        11 non-null     int64\n",
      " 2   Toyota_sales_inside_japan     11 non-null     int64\n",
      " 3   Toyota_sales_outside_japan    11 non-null     int64\n",
      " 4   Daihatsu_worldwide_sales      11 non-null     int64\n",
      " 5   Daihatsu_sales_inside_japan   11 non-null     int64\n",
      " 6   Daihatsu_sales_outside_japan  11 non-null     int64\n",
      " 7   Hino_worldwide_sales          11 non-null     int64\n",
      " 8   Hino_sales_inside_japan       11 non-null     int64\n",
      " 9   Hino_sales_outside_japan      11 non-null     int64\n",
      " 10  Total_worldwide_sales         11 non-null     int64\n",
      " 11  Total_sales_inside_japan      11 non-null     int64\n",
      " 12  Total_sales_outside_japan     11 non-null     int64\n",
      "dtypes: int64(13)\n",
      "memory usage: 1.2 KB\n"
     ]
    }
   ],
   "source": [
    "sales.info()"
   ]
  },
  {
   "cell_type": "code",
   "execution_count": 7,
   "metadata": {},
   "outputs": [
    {
     "data": {
      "image/png": "[encoded data removed]",
      "text/plain": [
       "<Figure size 576x432 with 1 Axes>"
      ]
     },
     "metadata": {
      "needs_background": "light"
     },
     "output_type": "display_data"
    },
    {
     "data": {
      "image/png": "[encoded data removed]",
      "text/plain": [
       "<Figure size 576x432 with 1 Axes>"
      ]
     },
     "metadata": {
      "needs_background": "light"
     },
     "output_type": "display_data"
    },
    {
     "data": {
      "image/png": "[encoded data removed]",
      "text/plain": [
       "<Figure size 576x432 with 1 Axes>"
      ]
     },
     "metadata": {
      "needs_background": "light"
     },
     "output_type": "display_data"
    }
   ],
   "source": [
    "df = pd.DataFrame(sales.groupby(['year'])['Toyota_worldwide_sales'].mean().sort_values(ascending = False))\n",
    "df.plot.bar(figsize=(8,6))\n",
    "plt.title('Toyota Worldwide Sales around one decade')\n",
    "plt.show()\n",
    "\n",
    "df = pd.DataFrame(sales.groupby(['year'])['Toyota_sales_inside_japan'].mean().sort_values(ascending = False))\n",
    "df.plot.bar(figsize=(8,6))\n",
    "plt.title('Toyota Worldwide Sales around one decade')\n",
    "plt.show()\n",
    "\n",
    "df = pd.DataFrame(sales.groupby(['year'])['Toyota_sales_outside_japan'].mean().sort_values(ascending = False))\n",
    "df.plot.bar(figsize=(8,6))\n",
    "plt.title('Toyota Worldwide Sales around one decade')\n",
    "plt.show()"
   ]
  },
  {
   "cell_type": "code",
   "execution_count": 8,
   "metadata": {},
   "outputs": [
    {
     "data": {
      "image/png": "[encoded data removed]",
      "text/plain": [
       "<Figure size 576x432 with 1 Axes>"
      ]
     },
     "metadata": {
      "needs_background": "light"
     },
     "output_type": "display_data"
    },
    {
     "data": {
      "image/png": "[encoded data removed]",
      "text/plain": [
       "<Figure size 576x432 with 1 Axes>"
      ]
     },
     "metadata": {
      "needs_background": "light"
     },
     "output_type": "display_data"
    },
    {
     "data": {
      "image/png": "[encoded data removed]",
      "text/plain": [
       "<Figure size 576x432 with 1 Axes>"
      ]
     },
     "metadata": {
      "needs_background": "light"
     },
     "output_type": "display_data"
    }
   ],
   "source": [
    "df = pd.DataFrame(sales.groupby(['year'])['Hino_worldwide_sales'].mean().sort_values(ascending = False))\n",
    "df.plot.bar(figsize=(8,6))\n",
    "plt.title('Hino Worldwide Sales around one decade')\n",
    "plt.show()\n",
    "\n",
    "df = pd.DataFrame(sales.groupby(['year'])['Hino_sales_inside_japan'].mean().sort_values(ascending = False))\n",
    "df.plot.bar(figsize=(8,6))\n",
    "plt.title('Hino Worldwide Sales around one decade')\n",
    "plt.show()\n",
    "\n",
    "df = pd.DataFrame(sales.groupby(['year'])['Hino_sales_outside_japan'].mean().sort_values(ascending = False))\n",
    "df.plot.bar(figsize=(8,6))\n",
    "plt.title('Hino Worldwide Sales around one decade')\n",
    "plt.show()"
   ]
  },
  {
   "cell_type": "code",
   "execution_count": 9,
   "metadata": {},
   "outputs": [
    {
     "data": {
      "image/png": "[encoded data removed]",
      "text/plain": [
       "<Figure size 576x432 with 1 Axes>"
      ]
     },
     "metadata": {
      "needs_background": "light"
     },
     "output_type": "display_data"
    },
    {
     "data": {
      "image/png": "[encoded data removed]",
      "text/plain": [
       "<Figure size 576x432 with 1 Axes>"
      ]
     },
     "metadata": {
      "needs_background": "light"
     },
     "output_type": "display_data"
    },
    {
     "data": {
      "image/png": "[encoded data removed]",
      "text/plain": [
       "<Figure size 576x432 with 1 Axes>"
      ]
     },
     "metadata": {
      "needs_background": "light"
     },
     "output_type": "display_data"
    }
   ],
   "source": [
    "df = pd.DataFrame(sales.groupby(['year'])['Daihatsu_worldwide_sales'].mean().sort_values(ascending = False))\n",
    "df.plot.bar(figsize=(8,6))\n",
    "plt.title('Daihatsu Worldwide Sales around one decade')\n",
    "plt.show()\n",
    "\n",
    "df = pd.DataFrame(sales.groupby(['year'])['Daihatsu_sales_inside_japan'].mean().sort_values(ascending = False))\n",
    "df.plot.bar(figsize=(8,6))\n",
    "plt.title('Daihatsu Worldwide Sales around one decade')\n",
    "plt.show()\n",
    "\n",
    "df = pd.DataFrame(sales.groupby(['year'])['Daihatsu_sales_outside_japan'].mean().sort_values(ascending = False))\n",
    "df.plot.bar(figsize=(8,6))\n",
    "plt.title('Daihatsu Worldwide Sales around one decade')\n",
    "plt.show()"
   ]
  },
  {
   "cell_type": "code",
   "execution_count": 10,
   "metadata": {},
   "outputs": [
    {
     "data": {
      "image/png": "[encoded data removed]",
      "text/plain": [
       "<Figure size 576x432 with 1 Axes>"
      ]
     },
     "metadata": {
      "needs_background": "light"
     },
     "output_type": "display_data"
    },
    {
     "data": {
      "image/png": "[encoded data removed]",
      "text/plain": [
       "<Figure size 576x432 with 1 Axes>"
      ]
     },
     "metadata": {
      "needs_background": "light"
     },
     "output_type": "display_data"
    },
    {
     "data": {
      "image/png": "[encoded data removed]",
      "text/plain": [
       "<Figure size 576x432 with 1 Axes>"
      ]
     },
     "metadata": {
      "needs_background": "light"
     },
     "output_type": "display_data"
    }
   ],
   "source": [
    "df = pd.DataFrame(sales.groupby(['year'])['Total_worldwide_sales'].mean().sort_values(ascending = False))\n",
    "df.plot.bar(figsize=(8,6))\n",
    "plt.title('Total Wordwide Sales around one decade')\n",
    "plt.show()\n",
    "\n",
    "df = pd.DataFrame(sales.groupby(['year'])['Total_sales_inside_japan'].mean().sort_values(ascending = False))\n",
    "df.plot.bar(figsize=(8,6))\n",
    "plt.title('Total Wordwide Sales around one decade')\n",
    "plt.show()\n",
    "\n",
    "df = pd.DataFrame(sales.groupby(['year'])['Total_sales_outside_japan'].mean().sort_values(ascending = False))\n",
    "df.plot.bar(figsize=(8,6))\n",
    "plt.title('Total Wordwide Sales around one decade')\n",
    "plt.show()"
   ]
  },
  {
   "cell_type": "code",
   "execution_count": 11,
   "metadata": {},
   "outputs": [
    {
     "data": {
      "text/plain": [
       "Total_sales_outside_japan    0\n",
       "dtype: int64"
      ]
     },
     "execution_count": 11,
     "metadata": {},
     "output_type": "execute_result"
    }
   ],
   "source": [
    "# Check if data has some NAN values\n",
    "df.isna().sum()"
   ]
  },
  {
   "cell_type": "code",
   "execution_count": 12,
   "metadata": {},
   "outputs": [],
   "source": [
    "feature_columns = ['year', 'Daihatsu_sales_inside_japan', 'Daihatsu_sales_outside_japan']\n",
    "label_column = 'Daihatsu_worldwide_sales'\n",
    "\n",
    "X = sales[feature_columns]\n",
    "y = sales[label_column]"
   ]
  },
  {
   "cell_type": "code",
   "execution_count": 13,
   "metadata": {},
   "outputs": [],
   "source": [
    "from sklearn.model_selection import train_test_split\n",
    "X_train, X_test, y_train, y_test = train_test_split(X,y, test_size=0.3, random_state=42)"
   ]
  },
  {
   "cell_type": "code",
   "execution_count": 14,
   "metadata": {},
   "outputs": [
    {
     "data": {
      "text/plain": [
       "LinearRegression(copy_X=True, fit_intercept=True, n_jobs=None, normalize=False)"
      ]
     },
     "execution_count": 14,
     "metadata": {},
     "output_type": "execute_result"
    }
   ],
   "source": [
    "from sklearn.linear_model import LinearRegression\n",
    "\n",
    "model = LinearRegression()\n",
    "model.fit(X_train, y_train)"
   ]
  },
  {
   "cell_type": "code",
   "execution_count": 15,
   "metadata": {},
   "outputs": [
    {
     "data": {
      "image/png": "[encoded data removed]",
      "text/plain": [
       "<Figure size 432x288 with 1 Axes>"
      ]
     },
     "metadata": {
      "needs_background": "light"
     },
     "output_type": "display_data"
    }
   ],
   "source": [
    "predictions = model.predict(X_test)\n",
    "plt.hist(predictions)\n",
    "plt.xlabel('Sales')\n",
    "plt.ylabel('Frequency')\n",
    "plt.show()"
   ]
  },
  {
   "cell_type": "code",
   "execution_count": 16,
   "metadata": {},
   "outputs": [
    {
     "data": {
      "text/plain": [
       "array([2.38620646e-12, 1.00000000e+00, 1.00000000e+00])"
      ]
     },
     "execution_count": 16,
     "metadata": {},
     "output_type": "execute_result"
    }
   ],
   "source": [
    "model.coef_"
   ]
  },
  {
   "cell_type": "code",
   "execution_count": 17,
   "metadata": {},
   "outputs": [
    {
     "data": {
      "image/png": "[encoded data removed]",
      "text/plain": [
       "<Figure size 432x288 with 1 Axes>"
      ]
     },
     "metadata": {
      "needs_background": "light"
     },
     "output_type": "display_data"
    }
   ],
   "source": [
    "plt.scatter(sales['year'],sales['Daihatsu_sales_inside_japan'])\n",
    "plt.xlabel('Year')\n",
    "plt.ylabel('Sales')\n",
    "plt.show()"
   ]
  },
  {
   "cell_type": "code",
   "execution_count": 18,
   "metadata": {},
   "outputs": [
    {
     "data": {
      "image/png": "[encoded data removed]",
      "text/plain": [
       "<Figure size 432x288 with 1 Axes>"
      ]
     },
     "metadata": {
      "needs_background": "light"
     },
     "output_type": "display_data"
    }
   ],
   "source": [
    "plt.scatter(sales['year'],sales['Daihatsu_sales_outside_japan'])\n",
    "plt.xlabel('Year')\n",
    "plt.ylabel('Sales')\n",
    "plt.show()"
   ]
  },
  {
   "cell_type": "code",
   "execution_count": 19,
   "metadata": {},
   "outputs": [
    {
     "data": {
      "image/png": "[encoded data removed]",
      "text/plain": [
       "<Figure size 432x288 with 1 Axes>"
      ]
     },
     "metadata": {
      "needs_background": "light"
     },
     "output_type": "display_data"
    }
   ],
   "source": [
    "plt.scatter(sales['year'],sales['Daihatsu_worldwide_sales'])\n",
    "plt.xlabel('Year')\n",
    "plt.ylabel('Sales')\n",
    "plt.show()"
   ]
  },
  {
   "cell_type": "code",
   "execution_count": 20,
   "metadata": {},
   "outputs": [],
   "source": [
    "mean_Daihatsu_sales_inside_japan = sales['Daihatsu_sales_inside_japan'].mean()\n",
    "mean_Daihatsu_sales_outside_japan = sales['Daihatsu_sales_outside_japan'].mean()\n"
   ]
  },
  {
   "cell_type": "code",
   "execution_count": 21,
   "metadata": {},
   "outputs": [],
   "source": [
    "# Prediction for the sales on 2030\n",
    "typical_car_sales_2030 = np.array([2030, mean_Daihatsu_sales_inside_japan, mean_Daihatsu_sales_outside_japan ]).reshape(1,3)\n",
    "prediction_2030 = model.predict(typical_car_sales_2030)"
   ]
  },
  {
   "cell_type": "code",
   "execution_count": 22,
   "metadata": {},
   "outputs": [
    {
     "data": {
      "text/plain": [
       "array([818753.18181818])"
      ]
     },
     "execution_count": 22,
     "metadata": {},
     "output_type": "execute_result"
    }
   ],
   "source": [
    "# Sales prediction for world wide sales for Daihatsu is:\n",
    "prediction_2030"
   ]
  },
  {
   "cell_type": "code",
   "execution_count": 23,
   "metadata": {},
   "outputs": [],
   "source": [
    "predicted_sales = sales.append({'year' : '2030', 'Daihatsu_worldwide_sales': int(prediction_2030)}, ignore_index=True)"
   ]
  },
  {
   "cell_type": "code",
   "execution_count": 24,
   "metadata": {},
   "outputs": [
    {
     "data": {
      "text/html": [
       "<div>\n",
       "<style scoped>\n",
       "    .dataframe tbody tr th:only-of-type {\n",
       "        vertical-align: middle;\n",
       "    }\n",
       "\n",
       "    .dataframe tbody tr th {\n",
       "        vertical-align: top;\n",
       "    }\n",
       "\n",
       "    .dataframe thead th {\n",
       "        text-align: right;\n",
       "    }\n",
       "</style>\n",
       "<table border=\"1\" class=\"dataframe\">\n",
       "  <thead>\n",
       "    <tr style=\"text-align: right;\">\n",
       "      <th></th>\n",
       "      <th>year</th>\n",
       "      <th>Toyota_worldwide_sales</th>\n",
       "      <th>Toyota_sales_inside_japan</th>\n",
       "      <th>Toyota_sales_outside_japan</th>\n",
       "      <th>Daihatsu_worldwide_sales</th>\n",
       "      <th>Daihatsu_sales_inside_japan</th>\n",
       "      <th>Daihatsu_sales_outside_japan</th>\n",
       "      <th>Hino_worldwide_sales</th>\n",
       "      <th>Hino_sales_inside_japan</th>\n",
       "      <th>Hino_sales_outside_japan</th>\n",
       "      <th>Total_worldwide_sales</th>\n",
       "      <th>Total_sales_inside_japan</th>\n",
       "      <th>Total_sales_outside_japan</th>\n",
       "    </tr>\n",
       "  </thead>\n",
       "  <tbody>\n",
       "    <tr>\n",
       "      <th>7</th>\n",
       "      <td>2016</td>\n",
       "      <td>9223727.0</td>\n",
       "      <td>1580851.0</td>\n",
       "      <td>7642876.0</td>\n",
       "      <td>780384</td>\n",
       "      <td>587042.0</td>\n",
       "      <td>193342.0</td>\n",
       "      <td>170469.0</td>\n",
       "      <td>63309.0</td>\n",
       "      <td>107160.0</td>\n",
       "      <td>10174580.0</td>\n",
       "      <td>2231202.0</td>\n",
       "      <td>7943378.0</td>\n",
       "    </tr>\n",
       "    <tr>\n",
       "      <th>8</th>\n",
       "      <td>2017</td>\n",
       "      <td>9383780.0</td>\n",
       "      <td>1633161.0</td>\n",
       "      <td>7750619.0</td>\n",
       "      <td>816997</td>\n",
       "      <td>630902.0</td>\n",
       "      <td>186095.0</td>\n",
       "      <td>185125.0</td>\n",
       "      <td>67776.0</td>\n",
       "      <td>117349.0</td>\n",
       "      <td>10385902.0</td>\n",
       "      <td>2331839.0</td>\n",
       "      <td>8054063.0</td>\n",
       "    </tr>\n",
       "    <tr>\n",
       "      <th>9</th>\n",
       "      <td>2018</td>\n",
       "      <td>9541748.0</td>\n",
       "      <td>1564309.0</td>\n",
       "      <td>7977439.0</td>\n",
       "      <td>848182</td>\n",
       "      <td>646874.0</td>\n",
       "      <td>201308.0</td>\n",
       "      <td>203768.0</td>\n",
       "      <td>70808.0</td>\n",
       "      <td>132960.0</td>\n",
       "      <td>10593698.0</td>\n",
       "      <td>2281991.0</td>\n",
       "      <td>8311707.0</td>\n",
       "    </tr>\n",
       "    <tr>\n",
       "      <th>10</th>\n",
       "      <td>2019</td>\n",
       "      <td>9714253.0</td>\n",
       "      <td>1610169.0</td>\n",
       "      <td>8104084.0</td>\n",
       "      <td>837990</td>\n",
       "      <td>658935.0</td>\n",
       "      <td>179055.0</td>\n",
       "      <td>189879.0</td>\n",
       "      <td>69789.0</td>\n",
       "      <td>120090.0</td>\n",
       "      <td>10742122.0</td>\n",
       "      <td>2338893.0</td>\n",
       "      <td>8403229.0</td>\n",
       "    </tr>\n",
       "    <tr>\n",
       "      <th>11</th>\n",
       "      <td>2030</td>\n",
       "      <td>NaN</td>\n",
       "      <td>NaN</td>\n",
       "      <td>NaN</td>\n",
       "      <td>818753</td>\n",
       "      <td>NaN</td>\n",
       "      <td>NaN</td>\n",
       "      <td>NaN</td>\n",
       "      <td>NaN</td>\n",
       "      <td>NaN</td>\n",
       "      <td>NaN</td>\n",
       "      <td>NaN</td>\n",
       "      <td>NaN</td>\n",
       "    </tr>\n",
       "  </tbody>\n",
       "</table>\n",
       "</div>"
      ],
      "text/plain": [
       "    year  Toyota_worldwide_sales  Toyota_sales_inside_japan  \\\n",
       "7   2016               9223727.0                  1580851.0   \n",
       "8   2017               9383780.0                  1633161.0   \n",
       "9   2018               9541748.0                  1564309.0   \n",
       "10  2019               9714253.0                  1610169.0   \n",
       "11  2030                     NaN                        NaN   \n",
       "\n",
       "    Toyota_sales_outside_japan  Daihatsu_worldwide_sales  \\\n",
       "7                    7642876.0                    780384   \n",
       "8                    7750619.0                    816997   \n",
       "9                    7977439.0                    848182   \n",
       "10                   8104084.0                    837990   \n",
       "11                         NaN                    818753   \n",
       "\n",
       "    Daihatsu_sales_inside_japan  Daihatsu_sales_outside_japan  \\\n",
       "7                      587042.0                      193342.0   \n",
       "8                      630902.0                      186095.0   \n",
       "9                      646874.0                      201308.0   \n",
       "10                     658935.0                      179055.0   \n",
       "11                          NaN                           NaN   \n",
       "\n",
       "    Hino_worldwide_sales  Hino_sales_inside_japan  Hino_sales_outside_japan  \\\n",
       "7               170469.0                  63309.0                  107160.0   \n",
       "8               185125.0                  67776.0                  117349.0   \n",
       "9               203768.0                  70808.0                  132960.0   \n",
       "10              189879.0                  69789.0                  120090.0   \n",
       "11                   NaN                      NaN                       NaN   \n",
       "\n",
       "    Total_worldwide_sales  Total_sales_inside_japan  Total_sales_outside_japan  \n",
       "7              10174580.0                 2231202.0                  7943378.0  \n",
       "8              10385902.0                 2331839.0                  8054063.0  \n",
       "9              10593698.0                 2281991.0                  8311707.0  \n",
       "10             10742122.0                 2338893.0                  8403229.0  \n",
       "11                    NaN                       NaN                        NaN  "
      ]
     },
     "execution_count": 24,
     "metadata": {},
     "output_type": "execute_result"
    }
   ],
   "source": [
    "predicted_sales.tail()"
   ]
  },
  {
   "cell_type": "code",
   "execution_count": 25,
   "metadata": {},
   "outputs": [
    {
     "data": {
      "image/png": "[encoded data removed]",
      "text/plain": [
       "<Figure size 432x288 with 1 Axes>"
      ]
     },
     "metadata": {
      "needs_background": "light"
     },
     "output_type": "display_data"
    }
   ],
   "source": [
    "plt.scatter(predicted_sales['year'],predicted_sales['Daihatsu_worldwide_sales'])\n",
    "plt.xlabel('Year')\n",
    "plt.ylabel('Sales')\n",
    "plt.show()"
   ]
  },
  {
   "cell_type": "code",
   "execution_count": 26,
   "metadata": {},
   "outputs": [
    {
     "data": {
      "text/html": [
       "<div>\n",
       "<style scoped>\n",
       "    .dataframe tbody tr th:only-of-type {\n",
       "        vertical-align: middle;\n",
       "    }\n",
       "\n",
       "    .dataframe tbody tr th {\n",
       "        vertical-align: top;\n",
       "    }\n",
       "\n",
       "    .dataframe thead th {\n",
       "        text-align: right;\n",
       "    }\n",
       "</style>\n",
       "<table border=\"1\" class=\"dataframe\">\n",
       "  <thead>\n",
       "    <tr style=\"text-align: right;\">\n",
       "      <th></th>\n",
       "      <th>Year</th>\n",
       "      <th>North America</th>\n",
       "      <th>U.S. (incl. Hawaii)</th>\n",
       "      <th>Canada</th>\n",
       "      <th>Mexico</th>\n",
       "      <th>Other</th>\n",
       "      <th>Latin America</th>\n",
       "      <th>Brazil</th>\n",
       "      <th>Argentina</th>\n",
       "      <th>Other.1</th>\n",
       "      <th>...</th>\n",
       "      <th>Other.4</th>\n",
       "      <th>Middle East</th>\n",
       "      <th>GCC*</th>\n",
       "      <th>Other.5</th>\n",
       "      <th>Africa</th>\n",
       "      <th>South Africa</th>\n",
       "      <th>Other.6</th>\n",
       "      <th>Others</th>\n",
       "      <th>Worldwide sales</th>\n",
       "      <th>Sales outside of Japan</th>\n",
       "    </tr>\n",
       "  </thead>\n",
       "  <tbody>\n",
       "    <tr>\n",
       "      <th>0</th>\n",
       "      <td>2007</td>\n",
       "      <td>2922823</td>\n",
       "      <td>2620826</td>\n",
       "      <td>201326</td>\n",
       "      <td>66209</td>\n",
       "      <td>34462</td>\n",
       "      <td>278730</td>\n",
       "      <td>72313</td>\n",
       "      <td>28581</td>\n",
       "      <td>177836</td>\n",
       "      <td>...</td>\n",
       "      <td>31023</td>\n",
       "      <td>484778</td>\n",
       "      <td>422265</td>\n",
       "      <td>62513</td>\n",
       "      <td>295117</td>\n",
       "      <td>152821</td>\n",
       "      <td>142296</td>\n",
       "      <td>4097</td>\n",
       "      <td>8429268</td>\n",
       "      <td>6841933</td>\n",
       "    </tr>\n",
       "    <tr>\n",
       "      <th>1</th>\n",
       "      <td>2008</td>\n",
       "      <td>2536741</td>\n",
       "      <td>2217662</td>\n",
       "      <td>224158</td>\n",
       "      <td>63305</td>\n",
       "      <td>31616</td>\n",
       "      <td>275321</td>\n",
       "      <td>80572</td>\n",
       "      <td>31168</td>\n",
       "      <td>163581</td>\n",
       "      <td>...</td>\n",
       "      <td>32080</td>\n",
       "      <td>590941</td>\n",
       "      <td>515898</td>\n",
       "      <td>75043</td>\n",
       "      <td>274700</td>\n",
       "      <td>126499</td>\n",
       "      <td>148201</td>\n",
       "      <td>3846</td>\n",
       "      <td>7996102</td>\n",
       "      <td>6526059</td>\n",
       "    </tr>\n",
       "    <tr>\n",
       "      <th>2</th>\n",
       "      <td>2009</td>\n",
       "      <td>2053172</td>\n",
       "      <td>1770253</td>\n",
       "      <td>205115</td>\n",
       "      <td>51991</td>\n",
       "      <td>25813</td>\n",
       "      <td>215810</td>\n",
       "      <td>94709</td>\n",
       "      <td>28482</td>\n",
       "      <td>92619</td>\n",
       "      <td>...</td>\n",
       "      <td>24388</td>\n",
       "      <td>484324</td>\n",
       "      <td>433043</td>\n",
       "      <td>51281</td>\n",
       "      <td>191530</td>\n",
       "      <td>88663</td>\n",
       "      <td>102867</td>\n",
       "      <td>3707</td>\n",
       "      <td>6979552</td>\n",
       "      <td>5604043</td>\n",
       "    </tr>\n",
       "    <tr>\n",
       "      <th>3</th>\n",
       "      <td>2010</td>\n",
       "      <td>2008089</td>\n",
       "      <td>1763532</td>\n",
       "      <td>171972</td>\n",
       "      <td>46769</td>\n",
       "      <td>25816</td>\n",
       "      <td>269513</td>\n",
       "      <td>99474</td>\n",
       "      <td>32859</td>\n",
       "      <td>137180</td>\n",
       "      <td>...</td>\n",
       "      <td>28448</td>\n",
       "      <td>555495</td>\n",
       "      <td>489612</td>\n",
       "      <td>65883</td>\n",
       "      <td>190227</td>\n",
       "      <td>98068</td>\n",
       "      <td>92159</td>\n",
       "      <td>2034</td>\n",
       "      <td>7527738</td>\n",
       "      <td>5961581</td>\n",
       "    </tr>\n",
       "    <tr>\n",
       "      <th>4</th>\n",
       "      <td>2011</td>\n",
       "      <td>1880472</td>\n",
       "      <td>1644661</td>\n",
       "      <td>162260</td>\n",
       "      <td>48589</td>\n",
       "      <td>24962</td>\n",
       "      <td>259963</td>\n",
       "      <td>99552</td>\n",
       "      <td>36355</td>\n",
       "      <td>124056</td>\n",
       "      <td>...</td>\n",
       "      <td>27883</td>\n",
       "      <td>525670</td>\n",
       "      <td>478450</td>\n",
       "      <td>47220</td>\n",
       "      <td>205749</td>\n",
       "      <td>106311</td>\n",
       "      <td>99438</td>\n",
       "      <td>1347</td>\n",
       "      <td>7096853</td>\n",
       "      <td>5895877</td>\n",
       "    </tr>\n",
       "  </tbody>\n",
       "</table>\n",
       "<p>5 rows × 42 columns</p>\n",
       "</div>"
      ],
      "text/plain": [
       "   Year  North America  U.S. (incl. Hawaii)  Canada  Mexico  Other  \\\n",
       "0  2007        2922823              2620826  201326   66209  34462   \n",
       "1  2008        2536741              2217662  224158   63305  31616   \n",
       "2  2009        2053172              1770253  205115   51991  25813   \n",
       "3  2010        2008089              1763532  171972   46769  25816   \n",
       "4  2011        1880472              1644661  162260   48589  24962   \n",
       "\n",
       "   Latin America  Brazil  Argentina  Other.1  ...  Other.4  Middle East  \\\n",
       "0         278730   72313      28581   177836  ...    31023       484778   \n",
       "1         275321   80572      31168   163581  ...    32080       590941   \n",
       "2         215810   94709      28482    92619  ...    24388       484324   \n",
       "3         269513   99474      32859   137180  ...    28448       555495   \n",
       "4         259963   99552      36355   124056  ...    27883       525670   \n",
       "\n",
       "     GCC*  Other.5  Africa  South Africa  Other.6  Others  Worldwide sales  \\\n",
       "0  422265    62513  295117        152821   142296    4097          8429268   \n",
       "1  515898    75043  274700        126499   148201    3846          7996102   \n",
       "2  433043    51281  191530         88663   102867    3707          6979552   \n",
       "3  489612    65883  190227         98068    92159    2034          7527738   \n",
       "4  478450    47220  205749        106311    99438    1347          7096853   \n",
       "\n",
       "   Sales outside of Japan  \n",
       "0                 6841933  \n",
       "1                 6526059  \n",
       "2                 5604043  \n",
       "3                 5961581  \n",
       "4                 5895877  \n",
       "\n",
       "[5 rows x 42 columns]"
      ]
     },
     "execution_count": 26,
     "metadata": {},
     "output_type": "execute_result"
    }
   ],
   "source": [
    "sales_region = pd.read_csv('data/toyota_sales_of_each_region.csv')\n",
    "sales_region.head()"
   ]
  },
  {
   "cell_type": "code",
   "execution_count": 27,
   "metadata": {},
   "outputs": [],
   "source": [
    "from pandas_profiling import ProfileReport\n"
   ]
  },
  {
   "cell_type": "code",
   "execution_count": 28,
   "metadata": {},
   "outputs": [
    {
     "data": {
      "text/plain": [
       "['__class__',\n",
       " '__delattr__',\n",
       " '__dict__',\n",
       " '__dir__',\n",
       " '__doc__',\n",
       " '__eq__',\n",
       " '__format__',\n",
       " '__ge__',\n",
       " '__getattribute__',\n",
       " '__gt__',\n",
       " '__hash__',\n",
       " '__init__',\n",
       " '__init_subclass__',\n",
       " '__le__',\n",
       " '__lt__',\n",
       " '__module__',\n",
       " '__ne__',\n",
       " '__new__',\n",
       " '__reduce__',\n",
       " '__reduce_ex__',\n",
       " '__repr__',\n",
       " '__setattr__',\n",
       " '__sizeof__',\n",
       " '__str__',\n",
       " '__subclasshook__',\n",
       " '__weakref__',\n",
       " '_repr_html_',\n",
       " 'get_description',\n",
       " 'get_sample',\n",
       " 'html',\n",
       " 'sort_column_names',\n",
       " 'to_app',\n",
       " 'to_file',\n",
       " 'to_html',\n",
       " 'to_json',\n",
       " 'to_notebook_iframe',\n",
       " 'to_widgets']"
      ]
     },
     "execution_count": 28,
     "metadata": {},
     "output_type": "execute_result"
    }
   ],
   "source": [
    "dir(ProfileReport)"
   ]
  },
  {
   "cell_type": "code",
   "execution_count": 29,
   "metadata": {},
   "outputs": [],
   "source": [
    "import numpy as np\n",
    "import pandas as pd\n",
    "from pandas_profiling import ProfileReport\n",
    "\n",
    "df_Sales_ALL = pd.read_csv('data/toyota_sales_of_each_region.csv')\n",
    "df_US_WorldWide = df_Sales_ALL[['Year','U.S. (incl. Hawaii)','Worldwide sales']]"
   ]
  },
  {
   "cell_type": "code",
   "execution_count": 30,
   "metadata": {},
   "outputs": [
    {
     "data": {
      "text/html": [
       "<div>\n",
       "<style scoped>\n",
       "    .dataframe tbody tr th:only-of-type {\n",
       "        vertical-align: middle;\n",
       "    }\n",
       "\n",
       "    .dataframe tbody tr th {\n",
       "        vertical-align: top;\n",
       "    }\n",
       "\n",
       "    .dataframe thead th {\n",
       "        text-align: right;\n",
       "    }\n",
       "</style>\n",
       "<table border=\"1\" class=\"dataframe\">\n",
       "  <thead>\n",
       "    <tr style=\"text-align: right;\">\n",
       "      <th></th>\n",
       "      <th>Year</th>\n",
       "      <th>U.S. (incl. Hawaii)</th>\n",
       "      <th>Worldwide sales</th>\n",
       "    </tr>\n",
       "  </thead>\n",
       "  <tbody>\n",
       "    <tr>\n",
       "      <th>0</th>\n",
       "      <td>2007</td>\n",
       "      <td>2620826</td>\n",
       "      <td>8429268</td>\n",
       "    </tr>\n",
       "    <tr>\n",
       "      <th>1</th>\n",
       "      <td>2008</td>\n",
       "      <td>2217662</td>\n",
       "      <td>7996102</td>\n",
       "    </tr>\n",
       "    <tr>\n",
       "      <th>2</th>\n",
       "      <td>2009</td>\n",
       "      <td>1770253</td>\n",
       "      <td>6979552</td>\n",
       "    </tr>\n",
       "    <tr>\n",
       "      <th>3</th>\n",
       "      <td>2010</td>\n",
       "      <td>1763532</td>\n",
       "      <td>7527738</td>\n",
       "    </tr>\n",
       "    <tr>\n",
       "      <th>4</th>\n",
       "      <td>2011</td>\n",
       "      <td>1644661</td>\n",
       "      <td>7096853</td>\n",
       "    </tr>\n",
       "  </tbody>\n",
       "</table>\n",
       "</div>"
      ],
      "text/plain": [
       "   Year  U.S. (incl. Hawaii)  Worldwide sales\n",
       "0  2007              2620826          8429268\n",
       "1  2008              2217662          7996102\n",
       "2  2009              1770253          6979552\n",
       "3  2010              1763532          7527738\n",
       "4  2011              1644661          7096853"
      ]
     },
     "execution_count": 30,
     "metadata": {},
     "output_type": "execute_result"
    }
   ],
   "source": [
    "df_US_WorldWide.head(5)"
   ]
  },
  {
   "cell_type": "code",
   "execution_count": 31,
   "metadata": {},
   "outputs": [],
   "source": [
    "profile = ProfileReport(df_US_WorldWide, title='US and WorldWide Sales Report', html={'style':{'full_width':True}})"
   ]
  },
  {
   "cell_type": "code",
   "execution_count": 32,
   "metadata": {},
   "outputs": [],
   "source": [
    "profile.to_file(output_file=\"Sales_US_WorldWide_Profiling.html\")"
   ]
  },
  {
   "cell_type": "code",
   "execution_count": null,
   "metadata": {},
   "outputs": [],
   "source": []
  },
  {
   "cell_type": "code",
   "execution_count": 34,
   "metadata": {},
   "outputs": [],
   "source": [
    "predicted_sales = df_US_WorldWide.append({'year' : '2030', 'Daihatsu_worldwide_sales': int(prediction_2030)}, ignore_index=True)"
   ]
  },
  {
   "cell_type": "code",
   "execution_count": 35,
   "metadata": {},
   "outputs": [],
   "source": [
    "feature_columns = ['Year', 'U.S._(incl._Hawaii)']\n",
    "label_column = 'Worldwide_sales'\n",
    "\n",
    "X = df_US_WorldWide[feature_columns]\n",
    "y = df_US_WorldWide[label_column]"
   ]
  },
  {
   "cell_type": "code",
   "execution_count": 36,
   "metadata": {},
   "outputs": [],
   "source": [
    "from sklearn.model_selection import train_test_split\n",
    "X_train, X_test, y_train, y_test = train_test_split(X,y, test_size=0.3, random_state=42)"
   ]
  },
  {
   "cell_type": "code",
   "execution_count": 37,
   "metadata": {},
   "outputs": [
    {
     "data": {
      "text/plain": [
       "LinearRegression(copy_X=True, fit_intercept=True, n_jobs=None, normalize=False)"
      ]
     },
     "execution_count": 37,
     "metadata": {},
     "output_type": "execute_result"
    }
   ],
   "source": [
    "from sklearn.linear_model import LinearRegression\n",
    "\n",
    "Linear_model = LinearRegression()\n",
    "Linear_model.fit(X_train, y_train)"
   ]
  },
  {
   "cell_type": "code",
   "execution_count": 38,
   "metadata": {},
   "outputs": [
    {
     "data": {
      "text/plain": [
       "0.2468003983882059"
      ]
     },
     "execution_count": 38,
     "metadata": {},
     "output_type": "execute_result"
    }
   ],
   "source": [
    "Linear_model.score(X_test,y_test)"
   ]
  },
  {
   "cell_type": "code",
   "execution_count": 39,
   "metadata": {},
   "outputs": [
    {
     "data": {
      "image/png": "[encoded data removed]",
      "text/plain": [
       "<Figure size 576x396 with 1 Axes>"
      ]
     },
     "metadata": {},
     "output_type": "display_data"
    }
   ],
   "source": [
    "predictions = Linear_model.predict(X_test)\n",
    "plt.hist(predictions)\n",
    "plt.xlabel('Sales')\n",
    "plt.ylabel('Frequency')\n",
    "plt.show()"
   ]
  },
  {
   "cell_type": "code",
   "execution_count": null,
   "metadata": {},
   "outputs": [],
   "source": []
  }
 ],
 "metadata": {
  "kernelspec": {
   "display_name": "Python 3",
   "language": "python",
   "name": "python3"
  },
  "language_info": {
   "codemirror_mode": {
    "name": "ipython",
    "version": 3
   },
   "file_extension": ".py",
   "mimetype": "text/x-python",
   "name": "python",
   "nbconvert_exporter": "python",
   "pygments_lexer": "ipython3",
   "version": "3.7.6"
  }
 },
 "nbformat": 4,
 "nbformat_minor": 4
}
